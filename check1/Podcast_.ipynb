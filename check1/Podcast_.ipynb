{
 "cells": [
  {
   "cell_type": "markdown",
   "metadata": {},
   "source": [
    "# Philosophy of Data Science | Critical Reasoning in Data Science -Kristin Morgan & Glen Wright Colopy"
   ]
  },
  {
   "cell_type": "markdown",
   "metadata": {},
   "source": [
    "This podcast discusses critical thinking for data science. They used medical examples for the critical thinking that goes into creating these programs. One interesting thing that I learned from the podcast is the will to not giving up. He talked about how some programmers begin and when they reach a dead-end in their program they start all over. Instead of starting all over and you keep trying, this will save you time. He talks about how we shouldn't give up, how we should be critically evaluating and debugging the mistake. This will improve my analyzing skill and my problem solving skill for future assingments and future problems. This is related to data science because during the podcast they showed some demonstration of a  replot. They showed two different replot with x = being hours and y being Heart rate and the hue = Current Hr and Future HR. Although their replots have more advanced data and better algorithm, I managed to still relate to it and understand what he did to get his replot data. "
   ]
  }
 ],
 "metadata": {
  "kernelspec": {
   "display_name": "Python 3",
   "language": "python",
   "name": "python3"
  },
  "language_info": {
   "codemirror_mode": {
    "name": "ipython",
    "version": 3
   },
   "file_extension": ".py",
   "mimetype": "text/x-python",
   "name": "python",
   "nbconvert_exporter": "python",
   "pygments_lexer": "ipython3",
   "version": "3.8.3"
  }
 },
 "nbformat": 4,
 "nbformat_minor": 4
}
