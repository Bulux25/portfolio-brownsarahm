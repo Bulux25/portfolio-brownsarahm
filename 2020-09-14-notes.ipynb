{
 "cells": [
  {
   "cell_type": "markdown",
   "metadata": {},
   "source": [
    "# Iterables\n"
   ]
  },
  {
   "cell_type": "code",
   "execution_count": 1,
   "metadata": {},
   "outputs": [],
   "source": [
    "name = 'sarah'"
   ]
  },
  {
   "cell_type": "code",
   "execution_count": 2,
   "metadata": {},
   "outputs": [
    {
     "data": {
      "text/plain": [
       "'a'"
      ]
     },
     "execution_count": 2,
     "metadata": {},
     "output_type": "execute_result"
    }
   ],
   "source": [
    "name[3]"
   ]
  },
  {
   "cell_type": "code",
   "execution_count": 3,
   "metadata": {},
   "outputs": [
    {
     "data": {
      "text/plain": [
       "'h'"
      ]
     },
     "execution_count": 3,
     "metadata": {},
     "output_type": "execute_result"
    }
   ],
   "source": [
    "name[-1]"
   ]
  },
  {
   "cell_type": "code",
   "execution_count": 4,
   "metadata": {},
   "outputs": [
    {
     "name": "stdout",
     "output_type": "stream",
     "text": [
      "sss\n",
      "aaa\n",
      "rrr\n",
      "aaa\n",
      "hhh\n"
     ]
    }
   ],
   "source": [
    "for char in name:\n",
    "    print(char*3)"
   ]
  },
  {
   "cell_type": "code",
   "execution_count": 5,
   "metadata": {},
   "outputs": [],
   "source": [
    "names = ['sarah', 'Jose', 'Cam', 'Bri']"
   ]
  },
  {
   "cell_type": "code",
   "execution_count": 6,
   "metadata": {},
   "outputs": [
    {
     "data": {
      "text/plain": [
       "['hellosarah', 'helloJose', 'helloCam', 'helloBri']"
      ]
     },
     "execution_count": 6,
     "metadata": {},
     "output_type": "execute_result"
    }
   ],
   "source": [
    "['hello' + n for n in names]"
   ]
  },
  {
   "cell_type": "code",
   "execution_count": 7,
   "metadata": {},
   "outputs": [],
   "source": [
    "greetings = ['hello ' + n for n in names]"
   ]
  },
  {
   "cell_type": "code",
   "execution_count": 8,
   "metadata": {},
   "outputs": [
    {
     "data": {
      "text/plain": [
       "'hello sarah'"
      ]
     },
     "execution_count": 8,
     "metadata": {},
     "output_type": "execute_result"
    }
   ],
   "source": [
    "greetings[0]"
   ]
  },
  {
   "cell_type": "code",
   "execution_count": 10,
   "metadata": {},
   "outputs": [
    {
     "data": {
      "text/plain": [
       "{'brownsarahm': 'Sarah Brown',\n",
       " 'briannakathrynm1': 'Brianna MacDonald',\n",
       " 'jdion62': 'Jacob Dion'}"
      ]
     },
     "execution_count": 10,
     "metadata": {},
     "output_type": "execute_result"
    }
   ],
   "source": [
    "gh_names = {'brownsarahm':'Sarah Brown',\n",
    "            'briannakathrynm1' : 'Brianna MacDonald',\n",
    "            'jdion62':'Jacob Dion'}\n",
    "gh_names"
   ]
  },
  {
   "cell_type": "code",
   "execution_count": 11,
   "metadata": {},
   "outputs": [
    {
     "data": {
      "text/plain": [
       "'Jacob Dion'"
      ]
     },
     "execution_count": 11,
     "metadata": {},
     "output_type": "execute_result"
    }
   ],
   "source": [
    "gh_names['jdion62']"
   ]
  },
  {
   "cell_type": "code",
   "execution_count": 13,
   "metadata": {},
   "outputs": [
    {
     "name": "stdout",
     "output_type": "stream",
     "text": [
      "Sarah Brown 's username is  brownsarahm\n",
      "Brianna MacDonald 's username is  briannakathrynm1\n",
      "Jacob Dion 's username is  jdion62\n"
     ]
    }
   ],
   "source": [
    "for key, value in gh_names.items():\n",
    "    print(value, \"'s username is \", key)"
   ]
  },
  {
   "cell_type": "code",
   "execution_count": 14,
   "metadata": {},
   "outputs": [
    {
     "name": "stdout",
     "output_type": "stream",
     "text": [
      "brownsarahm\n",
      "briannakathrynm1\n",
      "jdion62\n"
     ]
    }
   ],
   "source": [
    "for val in gh_names:\n",
    "    print(val)"
   ]
  },
  {
   "cell_type": "code",
   "execution_count": 15,
   "metadata": {},
   "outputs": [],
   "source": [
    "import pandas"
   ]
  },
  {
   "cell_type": "code",
   "execution_count": null,
   "metadata": {},
   "outputs": [],
   "source": [
    "pandas.read_csv()"
   ]
  },
  {
   "cell_type": "code",
   "execution_count": 16,
   "metadata": {},
   "outputs": [],
   "source": [
    "import pandas as pd"
   ]
  },
  {
   "cell_type": "code",
   "execution_count": 17,
   "metadata": {},
   "outputs": [
    {
     "data": {
      "text/plain": [
       "[   Unnamed: 0_level_0                                             topics  \\\n",
       "                  week                                 Unnamed: 1_level_1   \n",
       " 0                   1                             [admin, python review]   \n",
       " 1                   2                        Loading data, Python review   \n",
       " 2                   3                          Exploratory Data Analysis   \n",
       " 3                   4                                      Data Cleaning   \n",
       " 4                   5                      Databases, Merging DataFrames   \n",
       " 5                   6  Modeling, Naive Bayes, classification performa...   \n",
       " 6                   7                   decision trees, cross validation   \n",
       " 7                   8                                         Regression   \n",
       " 8                   9                                         Clustering   \n",
       " 9                  10                              SVM, parameter tuning   \n",
       " 10                 11                              KNN, Model comparison   \n",
       " 11                 12                                      Text Analysis   \n",
       " 12                 13                                     Topic Modeling   \n",
       " 13                 14                                      Deep Learning   \n",
       " \n",
       "                              skills  \n",
       "                  Unnamed: 2_level_1  \n",
       " 0                           process  \n",
       " 1      [access, prepare, summarize]  \n",
       " 2            [summarize, visualize]  \n",
       " 3   [prepare, summarize, visualize]  \n",
       " 4    [access, construct, summarize]  \n",
       " 5        [classification, evaluate]  \n",
       " 6        [classification, evaluate]  \n",
       " 7            [regression, evaluate]  \n",
       " 8            [clustering, evaluate]  \n",
       " 9                 [optimize, tools]  \n",
       " 10                 [compare, tools]  \n",
       " 11                   [unstructured]  \n",
       " 12            [unstructured, tools]  \n",
       " 13                 [tools, compare]  ,\n",
       "    Unnamed: 0_level_0                                              skill  \\\n",
       "               keyword                                 Unnamed: 1_level_1   \n",
       " 0              python                              pythonic code writing   \n",
       " 1             process                 describe data science as a process   \n",
       " 2              access                    access data in multiple formats   \n",
       " 3           construct           construct datasets from multiple sources   \n",
       " 4           summarize                        Summarize and describe data   \n",
       " 5           visualize                                     Visualize data   \n",
       " 6             prepare                          prepare data for analysis   \n",
       " 7      classification                               Apply classification   \n",
       " 8          regression                                   Apply Regression   \n",
       " 9          clustering                                         Clustering   \n",
       " 10           evaluate                         Evaluate model performance   \n",
       " 11           optimize                          Optimize model parameters   \n",
       " 12            compare                                     compare models   \n",
       " 13       unstructured                            model unstructured data   \n",
       " 14              tools  use industry standard data science tools and w...   \n",
       " \n",
       "                                               Level 1  \\\n",
       "                                    Unnamed: 2_level_1   \n",
       " 0   python code that mostly runs, occasional pep8 ...   \n",
       " 1           Identify basic components of data science   \n",
       " 2   load data from at least one format; identify t...   \n",
       " 3   identify what should happen to merge datasets ...   \n",
       " 4   Describe the shape and structure of a dataset ...   \n",
       " 5   identify plot types, generate basic plots from...   \n",
       " 6   identify if data is or is not ready for analys...   \n",
       " 7   identify and describe what classification is, ...   \n",
       " 8   identify what data that can be used for regres...   \n",
       " 9                         describe what clustering is   \n",
       " 10  Explain basic performance metrics for differen...   \n",
       " 11  Identify when model parameters need to be opti...   \n",
       " 12                Qualitatively compare model classes   \n",
       " 13  Identify options for representing text data an...   \n",
       " 14  Solve well strucutred problems with a single t...   \n",
       " \n",
       "                                               Level 2  \\\n",
       "                                    Unnamed: 3_level_1   \n",
       " 0   python code that reliably runs, frequent pep8 ...   \n",
       " 1   Describe and define each stge of the data scie...   \n",
       " 2   Load data for processing from the most common ...   \n",
       " 3                                  apply basic merges   \n",
       " 4       compute summary statistics of a whole dataset   \n",
       " 5   generate multiple plot types with complete lab...   \n",
       " 6   apply data reshaping, cleaning, and filtering ...   \n",
       " 7   fit preselected classification model to a dataset   \n",
       " 8                    can fit linear regression models   \n",
       " 9                              apply basic clustering   \n",
       " 10  Apply basic model evaluation metrics to a held...   \n",
       " 11  Manually optimize basic model parameters such ...   \n",
       " 12  Compare model classes in specific terms and fi...   \n",
       " 13  Apply at least one representation to transform...   \n",
       " 14  Solve semi-strucutred, completely specified pr...   \n",
       " \n",
       "                                               Level 3  \n",
       "                                    Unnamed: 4_level_1  \n",
       " 0   reliable, efficient, pythonic code that consis...  \n",
       " 1   Compare different ways that data science can o...  \n",
       " 2   access data from both common and uncommon form...  \n",
       " 3        merge data that is not automatically aligned  \n",
       " 4       Compute summary statistics of subsets of data  \n",
       " 5   generate complex plots with pandas and plottin...  \n",
       " 6   apply data reshaping, cleaning, and filtering ...  \n",
       " 7   fit and apply classification models and select...  \n",
       " 8            can fit and explain nonlinear regression  \n",
       " 9   apply multiple clustering techniques, and inte...  \n",
       " 10  Evaluate a model with multiple metrics and cro...  \n",
       " 11  Select optimal parameters based of mutiple qua...  \n",
       " 12  Evaluate tradeoffs between different model com...  \n",
       " 13  apply mulitple representations and compare and...  \n",
       " 14  Scope, choose an appropriate tool pipeline and...  ,\n",
       "    Unnamed: 0_level_0                 A1                 A2  \\\n",
       "               keyword Unnamed: 1_level_1 Unnamed: 2_level_1   \n",
       " 0              python                  1                  1   \n",
       " 1             process                  1                  1   \n",
       " 2              access                  0                  1   \n",
       " 3           construct                  0                  0   \n",
       " 4           summarize                  0                  0   \n",
       " 5           visualize                  0                  0   \n",
       " 6             prepare                  0                  0   \n",
       " 7      classification                  0                  0   \n",
       " 8          regression                  0                  0   \n",
       " 9          clustering                  0                  0   \n",
       " 10           evaluate                  0                  0   \n",
       " 11           optimize                  0                  0   \n",
       " 12            compare                  0                  0   \n",
       " 13       unstructured                  0                  0   \n",
       " 14              tools                  0                  0   \n",
       " \n",
       "                    A3                 A4                 A5  \\\n",
       "    Unnamed: 3_level_1 Unnamed: 4_level_1 Unnamed: 5_level_1   \n",
       " 0                   1                  1                  0   \n",
       " 1                   0                  0                  0   \n",
       " 2                   1                  1                  0   \n",
       " 3                   0                  0                  1   \n",
       " 4                   1                  1                  1   \n",
       " 5                   1                  0                  0   \n",
       " 6                   0                  1                  1   \n",
       " 7                   0                  0                  0   \n",
       " 8                   0                  0                  0   \n",
       " 9                   0                  0                  0   \n",
       " 10                  0                  0                  0   \n",
       " 11                  0                  0                  0   \n",
       " 12                  0                  0                  0   \n",
       " 13                  0                  0                  0   \n",
       " 14                  0                  0                  0   \n",
       " \n",
       "                    A6                 A7                 A8  \\\n",
       "    Unnamed: 6_level_1 Unnamed: 7_level_1 Unnamed: 8_level_1   \n",
       " 0                   0                  0                  0   \n",
       " 1                   0                  0                  0   \n",
       " 2                   0                  0                  0   \n",
       " 3                   1                  0                  0   \n",
       " 4                   1                  1                  1   \n",
       " 5                   1                  1                  1   \n",
       " 6                   0                  0                  0   \n",
       " 7                   1                  1                  0   \n",
       " 8                   0                  0                  1   \n",
       " 9                   0                  0                  0   \n",
       " 10                  0                  0                  0   \n",
       " 11                  0                  0                  0   \n",
       " 12                  0                  0                  0   \n",
       " 13                  0                  0                  0   \n",
       " 14                  0                  0                  0   \n",
       " \n",
       "                    A9                 A10                 A11  \\\n",
       "    Unnamed: 9_level_1 Unnamed: 10_level_1 Unnamed: 11_level_1   \n",
       " 0                   0                   0                   0   \n",
       " 1                   0                   0                   0   \n",
       " 2                   0                   0                   0   \n",
       " 3                   0                   0                   0   \n",
       " 4                   1                   1                   1   \n",
       " 5                   1                   1                   1   \n",
       " 6                   0                   0                   0   \n",
       " 7                   0                   1                   0   \n",
       " 8                   0                   0                   1   \n",
       " 9                   1                   0                   1   \n",
       " 10                  0                   1                   1   \n",
       " 11                  0                   1                   1   \n",
       " 12                  0                   0                   1   \n",
       " 13                  0                   0                   0   \n",
       " 14                  0                   1                   1   \n",
       " \n",
       "                    A12                 A13       # Assignments  \n",
       "    Unnamed: 12_level_1 Unnamed: 13_level_1 Unnamed: 14_level_1  \n",
       " 0                    0                   0                   4  \n",
       " 1                    0                   0                   2  \n",
       " 2                    0                   0                   3  \n",
       " 3                    0                   0                   2  \n",
       " 4                    1                   1                  11  \n",
       " 5                    1                   1                   9  \n",
       " 6                    0                   0                   2  \n",
       " 7                    0                   0                   3  \n",
       " 8                    0                   0                   2  \n",
       " 9                    0                   0                   2  \n",
       " 10                   0                   0                   2  \n",
       " 11                   0                   0                   2  \n",
       " 12                   0                   1                   2  \n",
       " 13                   1                   1                   2  \n",
       " 14                   1                   1                   4  ,\n",
       "    Unnamed: 0_level_0                                            Level 3  \\\n",
       "               keyword                                 Unnamed: 1_level_1   \n",
       " 0              python  reliable, efficient, pythonic code that consis...   \n",
       " 1             process  Compare different ways that data science can o...   \n",
       " 2              access  access data from both common and uncommon form...   \n",
       " 3           construct       merge data that is not automatically aligned   \n",
       " 4           summarize      Compute summary statistics of subsets of data   \n",
       " 5           visualize  generate complex plots with pandas and plottin...   \n",
       " 6             prepare  apply data reshaping, cleaning, and filtering ...   \n",
       " 7      classification  fit and apply classification models and select...   \n",
       " 8          regression           can fit and explain nonlinear regression   \n",
       " 9          clustering  apply multiple clustering techniques, and inte...   \n",
       " 10           evaluate  Evaluate a model with multiple metrics and cro...   \n",
       " 11           optimize  Select optimal parameters based of mutiple qua...   \n",
       " 12            compare  Evaluate tradeoffs between different model com...   \n",
       " 13       unstructured  apply mulitple representations and compare and...   \n",
       " 14              tools  Scope, choose an appropriate tool pipeline and...   \n",
       " \n",
       "                    P1                 P2                 P3                 P4  \n",
       "    Unnamed: 2_level_1 Unnamed: 3_level_1 Unnamed: 4_level_1 Unnamed: 5_level_1  \n",
       " 0                   1                  1                  0                  0  \n",
       " 1                   0                  1                  1                  0  \n",
       " 2                   1                  1                  0                  0  \n",
       " 3                   1                  1                  0                  0  \n",
       " 4                   1                  1                  0                  0  \n",
       " 5                   1                  1                  0                  0  \n",
       " 6                   1                  1                  0                  0  \n",
       " 7                   0                  1                  1                  0  \n",
       " 8                   0                  1                  1                  0  \n",
       " 9                   0                  1                  1                  0  \n",
       " 10                  0                  1                  1                  0  \n",
       " 11                  0                  0                  1                  1  \n",
       " 12                  0                  0                  1                  1  \n",
       " 13                  0                  0                  1                  1  \n",
       " 14                  0                  0                  1                  1  ]"
      ]
     },
     "execution_count": 17,
     "metadata": {},
     "output_type": "execute_result"
    }
   ],
   "source": [
    "pd.read_html('https://rhodyprog4ds.github.io/BrownFall20/syllabus/course_map.html')"
   ]
  },
  {
   "cell_type": "code",
   "execution_count": 18,
   "metadata": {},
   "outputs": [
    {
     "data": {
      "text/html": [
       "<div>\n",
       "<style scoped>\n",
       "    .dataframe tbody tr th:only-of-type {\n",
       "        vertical-align: middle;\n",
       "    }\n",
       "\n",
       "    .dataframe tbody tr th {\n",
       "        vertical-align: top;\n",
       "    }\n",
       "\n",
       "    .dataframe thead tr th {\n",
       "        text-align: left;\n",
       "    }\n",
       "</style>\n",
       "<table border=\"1\" class=\"dataframe\">\n",
       "  <thead>\n",
       "    <tr>\n",
       "      <th></th>\n",
       "      <th>Unnamed: 0_level_0</th>\n",
       "      <th>topics</th>\n",
       "      <th>skills</th>\n",
       "    </tr>\n",
       "    <tr>\n",
       "      <th></th>\n",
       "      <th>week</th>\n",
       "      <th>Unnamed: 1_level_1</th>\n",
       "      <th>Unnamed: 2_level_1</th>\n",
       "    </tr>\n",
       "  </thead>\n",
       "  <tbody>\n",
       "    <tr>\n",
       "      <th>0</th>\n",
       "      <td>1</td>\n",
       "      <td>[admin, python review]</td>\n",
       "      <td>process</td>\n",
       "    </tr>\n",
       "    <tr>\n",
       "      <th>1</th>\n",
       "      <td>2</td>\n",
       "      <td>Loading data, Python review</td>\n",
       "      <td>[access, prepare, summarize]</td>\n",
       "    </tr>\n",
       "    <tr>\n",
       "      <th>2</th>\n",
       "      <td>3</td>\n",
       "      <td>Exploratory Data Analysis</td>\n",
       "      <td>[summarize, visualize]</td>\n",
       "    </tr>\n",
       "    <tr>\n",
       "      <th>3</th>\n",
       "      <td>4</td>\n",
       "      <td>Data Cleaning</td>\n",
       "      <td>[prepare, summarize, visualize]</td>\n",
       "    </tr>\n",
       "    <tr>\n",
       "      <th>4</th>\n",
       "      <td>5</td>\n",
       "      <td>Databases, Merging DataFrames</td>\n",
       "      <td>[access, construct, summarize]</td>\n",
       "    </tr>\n",
       "    <tr>\n",
       "      <th>5</th>\n",
       "      <td>6</td>\n",
       "      <td>Modeling, Naive Bayes, classification performa...</td>\n",
       "      <td>[classification, evaluate]</td>\n",
       "    </tr>\n",
       "    <tr>\n",
       "      <th>6</th>\n",
       "      <td>7</td>\n",
       "      <td>decision trees, cross validation</td>\n",
       "      <td>[classification, evaluate]</td>\n",
       "    </tr>\n",
       "    <tr>\n",
       "      <th>7</th>\n",
       "      <td>8</td>\n",
       "      <td>Regression</td>\n",
       "      <td>[regression, evaluate]</td>\n",
       "    </tr>\n",
       "    <tr>\n",
       "      <th>8</th>\n",
       "      <td>9</td>\n",
       "      <td>Clustering</td>\n",
       "      <td>[clustering, evaluate]</td>\n",
       "    </tr>\n",
       "    <tr>\n",
       "      <th>9</th>\n",
       "      <td>10</td>\n",
       "      <td>SVM, parameter tuning</td>\n",
       "      <td>[optimize, tools]</td>\n",
       "    </tr>\n",
       "    <tr>\n",
       "      <th>10</th>\n",
       "      <td>11</td>\n",
       "      <td>KNN, Model comparison</td>\n",
       "      <td>[compare, tools]</td>\n",
       "    </tr>\n",
       "    <tr>\n",
       "      <th>11</th>\n",
       "      <td>12</td>\n",
       "      <td>Text Analysis</td>\n",
       "      <td>[unstructured]</td>\n",
       "    </tr>\n",
       "    <tr>\n",
       "      <th>12</th>\n",
       "      <td>13</td>\n",
       "      <td>Topic Modeling</td>\n",
       "      <td>[unstructured, tools]</td>\n",
       "    </tr>\n",
       "    <tr>\n",
       "      <th>13</th>\n",
       "      <td>14</td>\n",
       "      <td>Deep Learning</td>\n",
       "      <td>[tools, compare]</td>\n",
       "    </tr>\n",
       "  </tbody>\n",
       "</table>\n",
       "</div>"
      ],
      "text/plain": [
       "   Unnamed: 0_level_0                                             topics  \\\n",
       "                 week                                 Unnamed: 1_level_1   \n",
       "0                   1                             [admin, python review]   \n",
       "1                   2                        Loading data, Python review   \n",
       "2                   3                          Exploratory Data Analysis   \n",
       "3                   4                                      Data Cleaning   \n",
       "4                   5                      Databases, Merging DataFrames   \n",
       "5                   6  Modeling, Naive Bayes, classification performa...   \n",
       "6                   7                   decision trees, cross validation   \n",
       "7                   8                                         Regression   \n",
       "8                   9                                         Clustering   \n",
       "9                  10                              SVM, parameter tuning   \n",
       "10                 11                              KNN, Model comparison   \n",
       "11                 12                                      Text Analysis   \n",
       "12                 13                                     Topic Modeling   \n",
       "13                 14                                      Deep Learning   \n",
       "\n",
       "                             skills  \n",
       "                 Unnamed: 2_level_1  \n",
       "0                           process  \n",
       "1      [access, prepare, summarize]  \n",
       "2            [summarize, visualize]  \n",
       "3   [prepare, summarize, visualize]  \n",
       "4    [access, construct, summarize]  \n",
       "5        [classification, evaluate]  \n",
       "6        [classification, evaluate]  \n",
       "7            [regression, evaluate]  \n",
       "8            [clustering, evaluate]  \n",
       "9                 [optimize, tools]  \n",
       "10                 [compare, tools]  \n",
       "11                   [unstructured]  \n",
       "12            [unstructured, tools]  \n",
       "13                 [tools, compare]  "
      ]
     },
     "execution_count": 18,
     "metadata": {},
     "output_type": "execute_result"
    }
   ],
   "source": [
    "df_list = pd.read_html('https://rhodyprog4ds.github.io/BrownFall20/syllabus/course_map.html')\n",
    "df_list[0]"
   ]
  },
  {
   "cell_type": "markdown",
   "metadata": {},
   "source": [
    "Today's Review:\n",
    "- strings are iterable\n",
    "- loops\n",
    "- dictionaries\n",
    "- imported pandas and read data"
   ]
  },
  {
   "cell_type": "code",
   "execution_count": null,
   "metadata": {},
   "outputs": [],
   "source": []
  }
 ],
 "metadata": {
  "jupytext": {
   "formats": "ipynb,md"
  },
  "kernelspec": {
   "display_name": "Python 3",
   "language": "python",
   "name": "python3"
  },
  "language_info": {
   "codemirror_mode": {
    "name": "ipython",
    "version": 3
   },
   "file_extension": ".py",
   "mimetype": "text/x-python",
   "name": "python",
   "nbconvert_exporter": "python",
   "pygments_lexer": "ipython3",
   "version": "3.8.3"
  }
 },
 "nbformat": 4,
 "nbformat_minor": 4
}
