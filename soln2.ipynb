{
 "cells": [
  {
   "cell_type": "code",
   "execution_count": 1,
   "metadata": {},
   "outputs": [],
   "source": [
    "import pandas as pd"
   ]
  },
  {
   "cell_type": "code",
   "execution_count": 2,
   "metadata": {},
   "outputs": [],
   "source": [
    "d1 = {'url': 'https://archive.ics.uci.edu/ml/machine-learning-databases/iris/iris.data',\n",
    "      'name':'iris',\n",
    "      'load_func': lambda path: pd.read_csv(path)}\n",
    "d2 = {'url': 'https://raw.githubusercontent.com/brownsarahm/python-socialsci-files/master/data/SAFI.json',\n",
    "     'name':'safi',\n",
    "     'load_func': lambda path: pd.read_json(path)}\n",
    "d3 = {'url':'https://rhodyprog4ds.github.io/BrownFall20/syllabus/grading.html',\n",
    "     'name': 'min_acheivements',\n",
    "     'load_func': lambda path: pd.read_html(path)[0]}\n",
    "\n",
    "dataset_list = [d1,d2,d3]"
   ]
  },
  {
   "cell_type": "code",
   "execution_count": 5,
   "metadata": {},
   "outputs": [
    {
     "data": {
      "text/html": [
       "<div>\n",
       "<style scoped>\n",
       "    .dataframe tbody tr th:only-of-type {\n",
       "        vertical-align: middle;\n",
       "    }\n",
       "\n",
       "    .dataframe tbody tr th {\n",
       "        vertical-align: top;\n",
       "    }\n",
       "\n",
       "    .dataframe thead th {\n",
       "        text-align: right;\n",
       "    }\n",
       "</style>\n",
       "<table border=\"1\" class=\"dataframe\">\n",
       "  <thead>\n",
       "    <tr style=\"text-align: right;\">\n",
       "      <th></th>\n",
       "      <th>5.1</th>\n",
       "      <th>3.5</th>\n",
       "      <th>1.4</th>\n",
       "      <th>0.2</th>\n",
       "      <th>Iris-setosa</th>\n",
       "    </tr>\n",
       "  </thead>\n",
       "  <tbody>\n",
       "    <tr>\n",
       "      <th>0</th>\n",
       "      <td>4.9</td>\n",
       "      <td>3.0</td>\n",
       "      <td>1.4</td>\n",
       "      <td>0.2</td>\n",
       "      <td>Iris-setosa</td>\n",
       "    </tr>\n",
       "    <tr>\n",
       "      <th>1</th>\n",
       "      <td>4.7</td>\n",
       "      <td>3.2</td>\n",
       "      <td>1.3</td>\n",
       "      <td>0.2</td>\n",
       "      <td>Iris-setosa</td>\n",
       "    </tr>\n",
       "    <tr>\n",
       "      <th>2</th>\n",
       "      <td>4.6</td>\n",
       "      <td>3.1</td>\n",
       "      <td>1.5</td>\n",
       "      <td>0.2</td>\n",
       "      <td>Iris-setosa</td>\n",
       "    </tr>\n",
       "    <tr>\n",
       "      <th>3</th>\n",
       "      <td>5.0</td>\n",
       "      <td>3.6</td>\n",
       "      <td>1.4</td>\n",
       "      <td>0.2</td>\n",
       "      <td>Iris-setosa</td>\n",
       "    </tr>\n",
       "    <tr>\n",
       "      <th>4</th>\n",
       "      <td>5.4</td>\n",
       "      <td>3.9</td>\n",
       "      <td>1.7</td>\n",
       "      <td>0.4</td>\n",
       "      <td>Iris-setosa</td>\n",
       "    </tr>\n",
       "    <tr>\n",
       "      <th>...</th>\n",
       "      <td>...</td>\n",
       "      <td>...</td>\n",
       "      <td>...</td>\n",
       "      <td>...</td>\n",
       "      <td>...</td>\n",
       "    </tr>\n",
       "    <tr>\n",
       "      <th>144</th>\n",
       "      <td>6.7</td>\n",
       "      <td>3.0</td>\n",
       "      <td>5.2</td>\n",
       "      <td>2.3</td>\n",
       "      <td>Iris-virginica</td>\n",
       "    </tr>\n",
       "    <tr>\n",
       "      <th>145</th>\n",
       "      <td>6.3</td>\n",
       "      <td>2.5</td>\n",
       "      <td>5.0</td>\n",
       "      <td>1.9</td>\n",
       "      <td>Iris-virginica</td>\n",
       "    </tr>\n",
       "    <tr>\n",
       "      <th>146</th>\n",
       "      <td>6.5</td>\n",
       "      <td>3.0</td>\n",
       "      <td>5.2</td>\n",
       "      <td>2.0</td>\n",
       "      <td>Iris-virginica</td>\n",
       "    </tr>\n",
       "    <tr>\n",
       "      <th>147</th>\n",
       "      <td>6.2</td>\n",
       "      <td>3.4</td>\n",
       "      <td>5.4</td>\n",
       "      <td>2.3</td>\n",
       "      <td>Iris-virginica</td>\n",
       "    </tr>\n",
       "    <tr>\n",
       "      <th>148</th>\n",
       "      <td>5.9</td>\n",
       "      <td>3.0</td>\n",
       "      <td>5.1</td>\n",
       "      <td>1.8</td>\n",
       "      <td>Iris-virginica</td>\n",
       "    </tr>\n",
       "  </tbody>\n",
       "</table>\n",
       "<p>149 rows × 5 columns</p>\n",
       "</div>"
      ],
      "text/plain": [
       "     5.1  3.5  1.4  0.2     Iris-setosa\n",
       "0    4.9  3.0  1.4  0.2     Iris-setosa\n",
       "1    4.7  3.2  1.3  0.2     Iris-setosa\n",
       "2    4.6  3.1  1.5  0.2     Iris-setosa\n",
       "3    5.0  3.6  1.4  0.2     Iris-setosa\n",
       "4    5.4  3.9  1.7  0.4     Iris-setosa\n",
       "..   ...  ...  ...  ...             ...\n",
       "144  6.7  3.0  5.2  2.3  Iris-virginica\n",
       "145  6.3  2.5  5.0  1.9  Iris-virginica\n",
       "146  6.5  3.0  5.2  2.0  Iris-virginica\n",
       "147  6.2  3.4  5.4  2.3  Iris-virginica\n",
       "148  5.9  3.0  5.1  1.8  Iris-virginica\n",
       "\n",
       "[149 rows x 5 columns]"
      ]
     },
     "execution_count": 5,
     "metadata": {},
     "output_type": "execute_result"
    }
   ],
   "source": [
    "# test the dicts\n",
    "d1['load_func'](d1['url'])"
   ]
  },
  {
   "cell_type": "code",
   "execution_count": 8,
   "metadata": {},
   "outputs": [
    {
     "data": {
      "text/plain": [
       "'iris.data'"
      ]
     },
     "execution_count": 8,
     "metadata": {},
     "output_type": "execute_result"
    }
   ],
   "source": [
    "# test spitting\n",
    "d1['url'].split('/')[-1]"
   ]
  },
  {
   "cell_type": "code",
   "execution_count": 10,
   "metadata": {},
   "outputs": [
    {
     "data": {
      "text/html": [
       "<div>\n",
       "<style scoped>\n",
       "    .dataframe tbody tr th:only-of-type {\n",
       "        vertical-align: middle;\n",
       "    }\n",
       "\n",
       "    .dataframe tbody tr th {\n",
       "        vertical-align: top;\n",
       "    }\n",
       "\n",
       "    .dataframe thead th {\n",
       "        text-align: right;\n",
       "    }\n",
       "</style>\n",
       "<table border=\"1\" class=\"dataframe\">\n",
       "  <thead>\n",
       "    <tr style=\"text-align: right;\">\n",
       "      <th></th>\n",
       "      <th>name</th>\n",
       "      <th>source</th>\n",
       "      <th>num_rows</th>\n",
       "      <th>num_columns</th>\n",
       "      <th>source_file_name</th>\n",
       "    </tr>\n",
       "  </thead>\n",
       "  <tbody>\n",
       "    <tr>\n",
       "      <th>0</th>\n",
       "      <td>iris</td>\n",
       "      <td>https://archive.ics.uci.edu/ml/machine-learnin...</td>\n",
       "      <td>149</td>\n",
       "      <td>5</td>\n",
       "      <td>iris.data</td>\n",
       "    </tr>\n",
       "    <tr>\n",
       "      <th>1</th>\n",
       "      <td>safi</td>\n",
       "      <td>https://raw.githubusercontent.com/brownsarahm/...</td>\n",
       "      <td>131</td>\n",
       "      <td>74</td>\n",
       "      <td>SAFI.json</td>\n",
       "    </tr>\n",
       "    <tr>\n",
       "      <th>2</th>\n",
       "      <td>min_acheivements</td>\n",
       "      <td>https://rhodyprog4ds.github.io/BrownFall20/syl...</td>\n",
       "      <td>10</td>\n",
       "      <td>4</td>\n",
       "      <td>grading.html</td>\n",
       "    </tr>\n",
       "  </tbody>\n",
       "</table>\n",
       "</div>"
      ],
      "text/plain": [
       "               name                                             source  \\\n",
       "0              iris  https://archive.ics.uci.edu/ml/machine-learnin...   \n",
       "1              safi  https://raw.githubusercontent.com/brownsarahm/...   \n",
       "2  min_acheivements  https://rhodyprog4ds.github.io/BrownFall20/syl...   \n",
       "\n",
       "   num_rows  num_columns source_file_name  \n",
       "0       149            5        iris.data  \n",
       "1       131           74        SAFI.json  \n",
       "2        10            4     grading.html  "
      ]
     },
     "execution_count": 10,
     "metadata": {},
     "output_type": "execute_result"
    }
   ],
   "source": [
    "data_info = []\n",
    "column_names = ['name','source','num_rows', 'num_columns','source_file_name']\n",
    "\n",
    "for dataset in dataset_list:\n",
    "    df = dataset['load_func'](dataset['url'])\n",
    "    source_file_name = dataset['url'].split('/')[-1]\n",
    "    num_rows, num_cols = df.shape\n",
    "    data_info.append([dataset['name'],dataset['url'],num_rows,\n",
    "                      num_cols,source_file_name])\n",
    "    \n",
    "summary_df = pd.DataFrame(data_info,columns=column_names)\n",
    "summary_df"
   ]
  },
  {
   "cell_type": "code",
   "execution_count": 11,
   "metadata": {},
   "outputs": [],
   "source": [
    "summary_df.to_csv('dataset_summary.csv')"
   ]
  },
  {
   "cell_type": "markdown",
   "metadata": {},
   "source": [
    "# Exploring Safi"
   ]
  },
  {
   "cell_type": "code",
   "execution_count": 12,
   "metadata": {},
   "outputs": [
    {
     "data": {
      "text/plain": [
       "{'url': 'https://raw.githubusercontent.com/brownsarahm/python-socialsci-files/master/data/SAFI.json',\n",
       " 'name': 'safi',\n",
       " 'load_func': <function __main__.<lambda>(path)>}"
      ]
     },
     "execution_count": 12,
     "metadata": {},
     "output_type": "execute_result"
    }
   ],
   "source": [
    "d2"
   ]
  },
  {
   "cell_type": "markdown",
   "metadata": {},
   "source": [
    "Load it into a data frame"
   ]
  },
  {
   "cell_type": "code",
   "execution_count": 13,
   "metadata": {},
   "outputs": [],
   "source": [
    "safi_df = d2['load_func'](d2['url'])"
   ]
  },
  {
   "cell_type": "markdown",
   "metadata": {},
   "source": [
    "Show the last 7 rows"
   ]
  },
  {
   "cell_type": "code",
   "execution_count": 14,
   "metadata": {},
   "outputs": [
    {
     "data": {
      "text/html": [
       "<div>\n",
       "<style scoped>\n",
       "    .dataframe tbody tr th:only-of-type {\n",
       "        vertical-align: middle;\n",
       "    }\n",
       "\n",
       "    .dataframe tbody tr th {\n",
       "        vertical-align: top;\n",
       "    }\n",
       "\n",
       "    .dataframe thead th {\n",
       "        text-align: right;\n",
       "    }\n",
       "</style>\n",
       "<table border=\"1\" class=\"dataframe\">\n",
       "  <thead>\n",
       "    <tr style=\"text-align: right;\">\n",
       "      <th></th>\n",
       "      <th>C06_rooms</th>\n",
       "      <th>B19_grand_liv</th>\n",
       "      <th>A08_ward</th>\n",
       "      <th>E01_water_use</th>\n",
       "      <th>B18_sp_parents_liv</th>\n",
       "      <th>B16_years_liv</th>\n",
       "      <th>E_yes_group_count</th>\n",
       "      <th>F_liv</th>\n",
       "      <th>_note2</th>\n",
       "      <th>instanceID</th>\n",
       "      <th>...</th>\n",
       "      <th>observation</th>\n",
       "      <th>_note</th>\n",
       "      <th>A12_agr_assoc</th>\n",
       "      <th>G03_no_food_mitigation</th>\n",
       "      <th>F05_money_source_other</th>\n",
       "      <th>gps:Latitude</th>\n",
       "      <th>E_no_group</th>\n",
       "      <th>F14_items_owned_other</th>\n",
       "      <th>F08_emply_lab</th>\n",
       "      <th>_members_count</th>\n",
       "    </tr>\n",
       "  </thead>\n",
       "  <tbody>\n",
       "    <tr>\n",
       "      <th>126</th>\n",
       "      <td>1</td>\n",
       "      <td>yes</td>\n",
       "      <td>ward2</td>\n",
       "      <td>yes</td>\n",
       "      <td>yes</td>\n",
       "      <td>7</td>\n",
       "      <td>2.0</td>\n",
       "      <td>[{'F11_no_owned': 2, 'F_curr_liv': 'oxen'}, {'...</td>\n",
       "      <td>NaN</td>\n",
       "      <td>uuid:69caea81-a4e5-4e8d-83cd-9c18d8e8d965</td>\n",
       "      <td>...</td>\n",
       "      <td>Ponto geogrÃ¡fico \\n\\nLatitude: 0512603\\nLonge...</td>\n",
       "      <td>NaN</td>\n",
       "      <td>yes</td>\n",
       "      <td>[rely_less_food, lab_ex_food]</td>\n",
       "      <td>NaN</td>\n",
       "      <td>-19.112194</td>\n",
       "      <td>[]</td>\n",
       "      <td>NaN</td>\n",
       "      <td>yes</td>\n",
       "      <td>3</td>\n",
       "    </tr>\n",
       "    <tr>\n",
       "      <th>127</th>\n",
       "      <td>3</td>\n",
       "      <td>no</td>\n",
       "      <td>ward2</td>\n",
       "      <td>yes</td>\n",
       "      <td>no</td>\n",
       "      <td>10</td>\n",
       "      <td>4.0</td>\n",
       "      <td>[{'F11_no_owned': 5, 'F_curr_liv': 'oxen'}, {'...</td>\n",
       "      <td>NaN</td>\n",
       "      <td>uuid:5ccc2e5a-ea90-48b5-8542-69400d5334df</td>\n",
       "      <td>...</td>\n",
       "      <td>O senhor Tome Florindo tem 2 canais de agua e ...</td>\n",
       "      <td>NaN</td>\n",
       "      <td>no</td>\n",
       "      <td>[na]</td>\n",
       "      <td>NaN</td>\n",
       "      <td>-19.112157</td>\n",
       "      <td>[]</td>\n",
       "      <td>NaN</td>\n",
       "      <td>no</td>\n",
       "      <td>7</td>\n",
       "    </tr>\n",
       "    <tr>\n",
       "      <th>128</th>\n",
       "      <td>1</td>\n",
       "      <td>yes</td>\n",
       "      <td>ward2</td>\n",
       "      <td>yes</td>\n",
       "      <td>no</td>\n",
       "      <td>5</td>\n",
       "      <td>2.0</td>\n",
       "      <td>[{'F11_no_owned': 5, 'F_curr_liv': 'poultry'}]</td>\n",
       "      <td>NaN</td>\n",
       "      <td>uuid:95c11a30-d44f-40c4-8ea8-ec34fca6bbbf</td>\n",
       "      <td>...</td>\n",
       "      <td>Ponto geogrÃ¡fico\\n\\nLatitude: 0515372\\nLonget...</td>\n",
       "      <td>NaN</td>\n",
       "      <td>no</td>\n",
       "      <td>[lab_ex_food]</td>\n",
       "      <td>NaN</td>\n",
       "      <td>-19.112271</td>\n",
       "      <td>[]</td>\n",
       "      <td>NaN</td>\n",
       "      <td>no</td>\n",
       "      <td>4</td>\n",
       "    </tr>\n",
       "    <tr>\n",
       "      <th>129</th>\n",
       "      <td>2</td>\n",
       "      <td>no</td>\n",
       "      <td>ward2</td>\n",
       "      <td>yes</td>\n",
       "      <td>no</td>\n",
       "      <td>17</td>\n",
       "      <td>2.0</td>\n",
       "      <td>[{'F11_no_owned': 1, 'F_curr_liv': 'oxen'}, {'...</td>\n",
       "      <td>NaN</td>\n",
       "      <td>uuid:ffc83162-ff24-4a87-8709-eff17abc0b3b</td>\n",
       "      <td>...</td>\n",
       "      <td>Ponto geogrÃ¡fico\\n\\nLatitude: 0512586\\nLongit...</td>\n",
       "      <td>NaN</td>\n",
       "      <td>yes</td>\n",
       "      <td>[rely_less_food, limit_variety, reduce_meals, ...</td>\n",
       "      <td>NaN</td>\n",
       "      <td>-19.112278</td>\n",
       "      <td>[]</td>\n",
       "      <td>NaN</td>\n",
       "      <td>yes</td>\n",
       "      <td>7</td>\n",
       "    </tr>\n",
       "    <tr>\n",
       "      <th>130</th>\n",
       "      <td>2</td>\n",
       "      <td>no</td>\n",
       "      <td>ward2</td>\n",
       "      <td>no</td>\n",
       "      <td>yes</td>\n",
       "      <td>20</td>\n",
       "      <td>NaN</td>\n",
       "      <td>[{'F11_no_owned': 3, 'F_curr_liv': 'oxen'}, {'...</td>\n",
       "      <td>NaN</td>\n",
       "      <td>uuid:aa77a0d7-7142-41c8-b494-483a5b68d8a7</td>\n",
       "      <td>...</td>\n",
       "      <td>Ponto geogrÃ¡fico\\n\\nLatitude: 0512624\\nLonget...</td>\n",
       "      <td>NaN</td>\n",
       "      <td>yes</td>\n",
       "      <td>[rely_less_food, restrict_adults, borrow_food]</td>\n",
       "      <td>NaN</td>\n",
       "      <td>-19.112183</td>\n",
       "      <td>[{'E04_res_water_field': 'land_far', 'E03_crop...</td>\n",
       "      <td>NaN</td>\n",
       "      <td>no</td>\n",
       "      <td>8</td>\n",
       "    </tr>\n",
       "  </tbody>\n",
       "</table>\n",
       "<p>5 rows × 74 columns</p>\n",
       "</div>"
      ],
      "text/plain": [
       "     C06_rooms B19_grand_liv A08_ward E01_water_use B18_sp_parents_liv  \\\n",
       "126          1           yes    ward2           yes                yes   \n",
       "127          3            no    ward2           yes                 no   \n",
       "128          1           yes    ward2           yes                 no   \n",
       "129          2            no    ward2           yes                 no   \n",
       "130          2            no    ward2            no                yes   \n",
       "\n",
       "     B16_years_liv  E_yes_group_count  \\\n",
       "126              7                2.0   \n",
       "127             10                4.0   \n",
       "128              5                2.0   \n",
       "129             17                2.0   \n",
       "130             20                NaN   \n",
       "\n",
       "                                                 F_liv  _note2  \\\n",
       "126  [{'F11_no_owned': 2, 'F_curr_liv': 'oxen'}, {'...     NaN   \n",
       "127  [{'F11_no_owned': 5, 'F_curr_liv': 'oxen'}, {'...     NaN   \n",
       "128     [{'F11_no_owned': 5, 'F_curr_liv': 'poultry'}]     NaN   \n",
       "129  [{'F11_no_owned': 1, 'F_curr_liv': 'oxen'}, {'...     NaN   \n",
       "130  [{'F11_no_owned': 3, 'F_curr_liv': 'oxen'}, {'...     NaN   \n",
       "\n",
       "                                    instanceID  ...  \\\n",
       "126  uuid:69caea81-a4e5-4e8d-83cd-9c18d8e8d965  ...   \n",
       "127  uuid:5ccc2e5a-ea90-48b5-8542-69400d5334df  ...   \n",
       "128  uuid:95c11a30-d44f-40c4-8ea8-ec34fca6bbbf  ...   \n",
       "129  uuid:ffc83162-ff24-4a87-8709-eff17abc0b3b  ...   \n",
       "130  uuid:aa77a0d7-7142-41c8-b494-483a5b68d8a7  ...   \n",
       "\n",
       "                                           observation  _note  A12_agr_assoc  \\\n",
       "126  Ponto geogrÃ¡fico \\n\\nLatitude: 0512603\\nLonge...    NaN            yes   \n",
       "127  O senhor Tome Florindo tem 2 canais de agua e ...    NaN             no   \n",
       "128  Ponto geogrÃ¡fico\\n\\nLatitude: 0515372\\nLonget...    NaN             no   \n",
       "129  Ponto geogrÃ¡fico\\n\\nLatitude: 0512586\\nLongit...    NaN            yes   \n",
       "130  Ponto geogrÃ¡fico\\n\\nLatitude: 0512624\\nLonget...    NaN            yes   \n",
       "\n",
       "                                G03_no_food_mitigation  \\\n",
       "126                      [rely_less_food, lab_ex_food]   \n",
       "127                                               [na]   \n",
       "128                                      [lab_ex_food]   \n",
       "129  [rely_less_food, limit_variety, reduce_meals, ...   \n",
       "130     [rely_less_food, restrict_adults, borrow_food]   \n",
       "\n",
       "     F05_money_source_other  gps:Latitude  \\\n",
       "126                     NaN    -19.112194   \n",
       "127                     NaN    -19.112157   \n",
       "128                     NaN    -19.112271   \n",
       "129                     NaN    -19.112278   \n",
       "130                     NaN    -19.112183   \n",
       "\n",
       "                                            E_no_group  F14_items_owned_other  \\\n",
       "126                                                 []                    NaN   \n",
       "127                                                 []                    NaN   \n",
       "128                                                 []                    NaN   \n",
       "129                                                 []                    NaN   \n",
       "130  [{'E04_res_water_field': 'land_far', 'E03_crop...                    NaN   \n",
       "\n",
       "    F08_emply_lab _members_count  \n",
       "126           yes              3  \n",
       "127            no              7  \n",
       "128            no              4  \n",
       "129           yes              7  \n",
       "130            no              8  \n",
       "\n",
       "[5 rows x 74 columns]"
      ]
     },
     "execution_count": 14,
     "metadata": {},
     "output_type": "execute_result"
    }
   ],
   "source": [
    "safi_df.tail()"
   ]
  },
  {
   "cell_type": "markdown",
   "metadata": {},
   "source": [
    "## Two ways to pick out the non numerical columns"
   ]
  },
  {
   "cell_type": "code",
   "execution_count": 20,
   "metadata": {},
   "outputs": [
    {
     "data": {
      "text/plain": [
       "Index(['B19_grand_liv', 'A08_ward', 'E01_water_use', 'B18_sp_parents_liv',\n",
       "       'F_liv', 'instanceID', 'B20_sp_grand_liv', 'F12_poultry',\n",
       "       'C02_respondent_wall_type', '_remitters', 'E18_months_no_water',\n",
       "       'F07_use_income', 'E17_no_enough_water', 'F04_need_money', 'A05_end',\n",
       "       'C04_window_type', 'E21_other_meth', 'F05_money_source', 'A07_district',\n",
       "       'C03_respondent_floor_type', 'E_yes_group', 'A01_interview_date',\n",
       "       'B11_remittance_money', 'A04_start', 'D_plots', 'F_items',\n",
       "       'F10_liv_owned', 'F13_du_look_aftr_cows', 'E26_affect_conflicts',\n",
       "       'F14_items_owned', 'F06_crops_contr', 'B17_parents_liv',\n",
       "       'G02_months_lack_food', 'F09_du_labour', 'E22_res_change',\n",
       "       'E24_resp_assoc', '_members', 'A06_province', 'E20_exper_other',\n",
       "       'A09_village', 'C01_respondent_roof_type', 'E23_memb_assoc',\n",
       "       'E25_fees_water', 'C07_other_buildings', 'observation', 'A12_agr_assoc',\n",
       "       'G03_no_food_mitigation', 'E_no_group', 'F08_emply_lab'],\n",
       "      dtype='object')"
      ]
     },
     "execution_count": 20,
     "metadata": {},
     "output_type": "execute_result"
    }
   ],
   "source": [
    "non_num_cols = safi_df.columns[safi_df.dtypes =='object']\n",
    "non_num_cols"
   ]
  },
  {
   "cell_type": "code",
   "execution_count": 23,
   "metadata": {},
   "outputs": [
    {
     "data": {
      "text/plain": [
       "['B19_grand_liv',\n",
       " 'A08_ward',\n",
       " 'E01_water_use',\n",
       " 'B18_sp_parents_liv',\n",
       " 'F_liv',\n",
       " 'instanceID',\n",
       " 'B20_sp_grand_liv',\n",
       " 'F12_poultry',\n",
       " 'C02_respondent_wall_type',\n",
       " '_remitters',\n",
       " 'E18_months_no_water',\n",
       " 'F07_use_income',\n",
       " 'E17_no_enough_water',\n",
       " 'F04_need_money',\n",
       " 'A05_end',\n",
       " 'C04_window_type',\n",
       " 'E21_other_meth',\n",
       " 'F05_money_source',\n",
       " 'A07_district',\n",
       " 'C03_respondent_floor_type',\n",
       " 'E_yes_group',\n",
       " 'A01_interview_date',\n",
       " 'B11_remittance_money',\n",
       " 'A04_start',\n",
       " 'D_plots',\n",
       " 'F_items',\n",
       " 'F10_liv_owned',\n",
       " 'F13_du_look_aftr_cows',\n",
       " 'E26_affect_conflicts',\n",
       " 'F14_items_owned',\n",
       " 'F06_crops_contr',\n",
       " 'B17_parents_liv',\n",
       " 'G02_months_lack_food',\n",
       " 'F09_du_labour',\n",
       " 'E22_res_change',\n",
       " 'E24_resp_assoc',\n",
       " '_members',\n",
       " 'A06_province',\n",
       " 'E20_exper_other',\n",
       " 'A09_village',\n",
       " 'C01_respondent_roof_type',\n",
       " 'E23_memb_assoc',\n",
       " 'E25_fees_water',\n",
       " 'C07_other_buildings',\n",
       " 'observation',\n",
       " 'A12_agr_assoc',\n",
       " 'G03_no_food_mitigation',\n",
       " 'E_no_group',\n",
       " 'F08_emply_lab']"
      ]
     },
     "execution_count": 23,
     "metadata": {},
     "output_type": "execute_result"
    }
   ],
   "source": [
    "nn_cols = [col for col in safi_df.columns if safi_df[col].dtypes =='object']\n",
    "nn_cols"
   ]
  },
  {
   "cell_type": "code",
   "execution_count": 24,
   "metadata": {},
   "outputs": [
    {
     "data": {
      "text/plain": [
       "True"
      ]
     },
     "execution_count": 24,
     "metadata": {},
     "output_type": "execute_result"
    }
   ],
   "source": [
    "list(non_num_cols) == nn_cols"
   ]
  },
  {
   "cell_type": "markdown",
   "metadata": {},
   "source": [
    "Sentences about the format of the data"
   ]
  },
  {
   "cell_type": "markdown",
   "metadata": {},
   "source": [
    "## Exploring Iris"
   ]
  },
  {
   "cell_type": "code",
   "execution_count": 25,
   "metadata": {},
   "outputs": [
    {
     "data": {
      "text/plain": [
       "{'url': 'https://archive.ics.uci.edu/ml/machine-learning-databases/iris/iris.data',\n",
       " 'name': 'iris',\n",
       " 'load_func': <function __main__.<lambda>(path)>}"
      ]
     },
     "execution_count": 25,
     "metadata": {},
     "output_type": "execute_result"
    }
   ],
   "source": [
    "d1"
   ]
  },
  {
   "cell_type": "code",
   "execution_count": 27,
   "metadata": {},
   "outputs": [],
   "source": [
    "iris_df = d1['load_func'](d1['url'])"
   ]
  },
  {
   "cell_type": "code",
   "execution_count": 28,
   "metadata": {},
   "outputs": [
    {
     "data": {
      "text/html": [
       "<div>\n",
       "<style scoped>\n",
       "    .dataframe tbody tr th:only-of-type {\n",
       "        vertical-align: middle;\n",
       "    }\n",
       "\n",
       "    .dataframe tbody tr th {\n",
       "        vertical-align: top;\n",
       "    }\n",
       "\n",
       "    .dataframe thead th {\n",
       "        text-align: right;\n",
       "    }\n",
       "</style>\n",
       "<table border=\"1\" class=\"dataframe\">\n",
       "  <thead>\n",
       "    <tr style=\"text-align: right;\">\n",
       "      <th></th>\n",
       "      <th>5.1</th>\n",
       "      <th>3.5</th>\n",
       "      <th>1.4</th>\n",
       "      <th>0.2</th>\n",
       "      <th>Iris-setosa</th>\n",
       "    </tr>\n",
       "  </thead>\n",
       "  <tbody>\n",
       "    <tr>\n",
       "      <th>0</th>\n",
       "      <td>4.9</td>\n",
       "      <td>3.0</td>\n",
       "      <td>1.4</td>\n",
       "      <td>0.2</td>\n",
       "      <td>Iris-setosa</td>\n",
       "    </tr>\n",
       "    <tr>\n",
       "      <th>1</th>\n",
       "      <td>4.7</td>\n",
       "      <td>3.2</td>\n",
       "      <td>1.3</td>\n",
       "      <td>0.2</td>\n",
       "      <td>Iris-setosa</td>\n",
       "    </tr>\n",
       "    <tr>\n",
       "      <th>2</th>\n",
       "      <td>4.6</td>\n",
       "      <td>3.1</td>\n",
       "      <td>1.5</td>\n",
       "      <td>0.2</td>\n",
       "      <td>Iris-setosa</td>\n",
       "    </tr>\n",
       "  </tbody>\n",
       "</table>\n",
       "</div>"
      ],
      "text/plain": [
       "   5.1  3.5  1.4  0.2  Iris-setosa\n",
       "0  4.9  3.0  1.4  0.2  Iris-setosa\n",
       "1  4.7  3.2  1.3  0.2  Iris-setosa\n",
       "2  4.6  3.1  1.5  0.2  Iris-setosa"
      ]
     },
     "execution_count": 28,
     "metadata": {},
     "output_type": "execute_result"
    }
   ],
   "source": [
    "iris_df.head(3)"
   ]
  },
  {
   "cell_type": "code",
   "execution_count": 29,
   "metadata": {},
   "outputs": [
    {
     "data": {
      "text/plain": [
       "5.1            float64\n",
       "3.5            float64\n",
       "1.4            float64\n",
       "0.2            float64\n",
       "Iris-setosa     object\n",
       "dtype: object"
      ]
     },
     "execution_count": 29,
     "metadata": {},
     "output_type": "execute_result"
    }
   ],
   "source": [
    "iris_df.dtypes"
   ]
  },
  {
   "cell_type": "markdown",
   "metadata": {},
   "source": [
    "All of these look like the datatype I expected"
   ]
  },
  {
   "cell_type": "markdown",
   "metadata": {},
   "source": [
    "## Exploring Minimum achievments"
   ]
  },
  {
   "cell_type": "code",
   "execution_count": 31,
   "metadata": {},
   "outputs": [
    {
     "data": {
      "text/plain": [
       "{'url': 'https://rhodyprog4ds.github.io/BrownFall20/syllabus/grading.html',\n",
       " 'name': 'min_acheivements',\n",
       " 'load_func': <function __main__.<lambda>(path)>}"
      ]
     },
     "execution_count": 31,
     "metadata": {},
     "output_type": "execute_result"
    }
   ],
   "source": [
    "d3"
   ]
  },
  {
   "cell_type": "code",
   "execution_count": 32,
   "metadata": {},
   "outputs": [],
   "source": [
    "min_acheivements_df = d3['load_func'](d3['url'])"
   ]
  },
  {
   "cell_type": "code",
   "execution_count": 33,
   "metadata": {},
   "outputs": [
    {
     "data": {
      "text/plain": [
       "MultiIndex([('Unnamed: 0_level_0',       'letter grade'),\n",
       "            (           'Level 3', 'Unnamed: 1_level_1'),\n",
       "            (           'Level 2', 'Unnamed: 2_level_1'),\n",
       "            (           'Level 1', 'Unnamed: 3_level_1')],\n",
       "           )"
      ]
     },
     "execution_count": 33,
     "metadata": {},
     "output_type": "execute_result"
    }
   ],
   "source": [
    "min_acheivements_df.columns"
   ]
  },
  {
   "cell_type": "code",
   "execution_count": 45,
   "metadata": {},
   "outputs": [
    {
     "data": {
      "text/html": [
       "<div>\n",
       "<style scoped>\n",
       "    .dataframe tbody tr th:only-of-type {\n",
       "        vertical-align: middle;\n",
       "    }\n",
       "\n",
       "    .dataframe tbody tr th {\n",
       "        vertical-align: top;\n",
       "    }\n",
       "\n",
       "    .dataframe thead tr th {\n",
       "        text-align: left;\n",
       "    }\n",
       "</style>\n",
       "<table border=\"1\" class=\"dataframe\">\n",
       "  <thead>\n",
       "    <tr>\n",
       "      <th></th>\n",
       "      <th>Level 3</th>\n",
       "      <th>Level 2</th>\n",
       "      <th>Level 1</th>\n",
       "    </tr>\n",
       "    <tr>\n",
       "      <th></th>\n",
       "      <th>Unnamed: 1_level_1</th>\n",
       "      <th>Unnamed: 2_level_1</th>\n",
       "      <th>Unnamed: 3_level_1</th>\n",
       "    </tr>\n",
       "  </thead>\n",
       "  <tbody>\n",
       "    <tr>\n",
       "      <th>0</th>\n",
       "      <td>15</td>\n",
       "      <td>15</td>\n",
       "      <td>15</td>\n",
       "    </tr>\n",
       "    <tr>\n",
       "      <th>1</th>\n",
       "      <td>10</td>\n",
       "      <td>15</td>\n",
       "      <td>15</td>\n",
       "    </tr>\n",
       "    <tr>\n",
       "      <th>2</th>\n",
       "      <td>5</td>\n",
       "      <td>15</td>\n",
       "      <td>15</td>\n",
       "    </tr>\n",
       "    <tr>\n",
       "      <th>3</th>\n",
       "      <td>0</td>\n",
       "      <td>15</td>\n",
       "      <td>15</td>\n",
       "    </tr>\n",
       "    <tr>\n",
       "      <th>4</th>\n",
       "      <td>0</td>\n",
       "      <td>10</td>\n",
       "      <td>15</td>\n",
       "    </tr>\n",
       "    <tr>\n",
       "      <th>5</th>\n",
       "      <td>0</td>\n",
       "      <td>5</td>\n",
       "      <td>15</td>\n",
       "    </tr>\n",
       "    <tr>\n",
       "      <th>6</th>\n",
       "      <td>0</td>\n",
       "      <td>0</td>\n",
       "      <td>15</td>\n",
       "    </tr>\n",
       "    <tr>\n",
       "      <th>7</th>\n",
       "      <td>0</td>\n",
       "      <td>0</td>\n",
       "      <td>10</td>\n",
       "    </tr>\n",
       "    <tr>\n",
       "      <th>8</th>\n",
       "      <td>0</td>\n",
       "      <td>0</td>\n",
       "      <td>5</td>\n",
       "    </tr>\n",
       "    <tr>\n",
       "      <th>9</th>\n",
       "      <td>0</td>\n",
       "      <td>0</td>\n",
       "      <td>3</td>\n",
       "    </tr>\n",
       "  </tbody>\n",
       "</table>\n",
       "</div>"
      ],
      "text/plain": [
       "             Level 3            Level 2            Level 1\n",
       "  Unnamed: 1_level_1 Unnamed: 2_level_1 Unnamed: 3_level_1\n",
       "0                 15                 15                 15\n",
       "1                 10                 15                 15\n",
       "2                  5                 15                 15\n",
       "3                  0                 15                 15\n",
       "4                  0                 10                 15\n",
       "5                  0                  5                 15\n",
       "6                  0                  0                 15\n",
       "7                  0                  0                 10\n",
       "8                  0                  0                  5\n",
       "9                  0                  0                  3"
      ]
     },
     "execution_count": 45,
     "metadata": {},
     "output_type": "execute_result"
    }
   ],
   "source": [
    "min_acheivements_df[[('Level 3', 'Unnamed: 1_level_1'),\n",
    "            ('Level 2', 'Unnamed: 2_level_1'),\n",
    "                     ('Level 1', 'Unnamed: 3_level_1')]]"
   ]
  },
  {
   "cell_type": "code",
   "execution_count": 48,
   "metadata": {},
   "outputs": [
    {
     "data": {
      "text/html": [
       "<div>\n",
       "<style scoped>\n",
       "    .dataframe tbody tr th:only-of-type {\n",
       "        vertical-align: middle;\n",
       "    }\n",
       "\n",
       "    .dataframe tbody tr th {\n",
       "        vertical-align: top;\n",
       "    }\n",
       "\n",
       "    .dataframe thead tr th {\n",
       "        text-align: left;\n",
       "    }\n",
       "</style>\n",
       "<table border=\"1\" class=\"dataframe\">\n",
       "  <thead>\n",
       "    <tr>\n",
       "      <th></th>\n",
       "      <th>Level 3</th>\n",
       "      <th>Level 2</th>\n",
       "      <th>Level 1</th>\n",
       "    </tr>\n",
       "    <tr>\n",
       "      <th></th>\n",
       "      <th>Unnamed: 1_level_1</th>\n",
       "      <th>Unnamed: 2_level_1</th>\n",
       "      <th>Unnamed: 3_level_1</th>\n",
       "    </tr>\n",
       "  </thead>\n",
       "  <tbody>\n",
       "    <tr>\n",
       "      <th>0</th>\n",
       "      <td>15</td>\n",
       "      <td>15</td>\n",
       "      <td>15</td>\n",
       "    </tr>\n",
       "    <tr>\n",
       "      <th>2</th>\n",
       "      <td>5</td>\n",
       "      <td>15</td>\n",
       "      <td>15</td>\n",
       "    </tr>\n",
       "    <tr>\n",
       "      <th>4</th>\n",
       "      <td>0</td>\n",
       "      <td>10</td>\n",
       "      <td>15</td>\n",
       "    </tr>\n",
       "    <tr>\n",
       "      <th>6</th>\n",
       "      <td>0</td>\n",
       "      <td>0</td>\n",
       "      <td>15</td>\n",
       "    </tr>\n",
       "    <tr>\n",
       "      <th>8</th>\n",
       "      <td>0</td>\n",
       "      <td>0</td>\n",
       "      <td>5</td>\n",
       "    </tr>\n",
       "  </tbody>\n",
       "</table>\n",
       "</div>"
      ],
      "text/plain": [
       "             Level 3            Level 2            Level 1\n",
       "  Unnamed: 1_level_1 Unnamed: 2_level_1 Unnamed: 3_level_1\n",
       "0                 15                 15                 15\n",
       "2                  5                 15                 15\n",
       "4                  0                 10                 15\n",
       "6                  0                  0                 15\n",
       "8                  0                  0                  5"
      ]
     },
     "execution_count": 48,
     "metadata": {},
     "output_type": "execute_result"
    }
   ],
   "source": [
    "min_acheivements_df[[('Level 3', 'Unnamed: 1_level_1'),\n",
    "            ('Level 2', 'Unnamed: 2_level_1'),\n",
    "                     ('Level 1', 'Unnamed: 3_level_1')]].loc[:10:2]"
   ]
  },
  {
   "cell_type": "markdown",
   "metadata": {},
   "source": [
    "## Scratch"
   ]
  },
  {
   "cell_type": "code",
   "execution_count": 49,
   "metadata": {},
   "outputs": [
    {
     "data": {
      "text/plain": [
       "[tuple, tuple, tuple]"
      ]
     },
     "execution_count": 49,
     "metadata": {},
     "output_type": "execute_result"
    }
   ],
   "source": [
    "[type(d) for d in d1.items()]"
   ]
  },
  {
   "cell_type": "code",
   "execution_count": 50,
   "metadata": {},
   "outputs": [],
   "source": [
    "opt1 = [char for char in 'abcde']\n",
    "opt2 = {char:i for i, char in enumerate('abcde')}\n",
    "opt3 = ('a','b','c','d','e')\n",
    "opt4 =  'a b c d e'.split(' ')"
   ]
  },
  {
   "cell_type": "code",
   "execution_count": 51,
   "metadata": {},
   "outputs": [
    {
     "name": "stdout",
     "output_type": "stream",
     "text": [
      "['a', 'b', 'c', 'd', 'e']\n",
      "{'a': 0, 'b': 1, 'c': 2, 'd': 3, 'e': 4}\n",
      "('a', 'b', 'c', 'd', 'e')\n",
      "['a', 'b', 'c', 'd', 'e']\n"
     ]
    }
   ],
   "source": [
    "options = [opt1, opt2, opt3, opt4]\n",
    "\n",
    "for i,op in enumerate(options):\n",
    "    print(i+1,': ',op)"
   ]
  },
  {
   "cell_type": "code",
   "execution_count": 54,
   "metadata": {},
   "outputs": [
    {
     "ename": "TypeError",
     "evalue": "list indices must be integers or slices, not list",
     "output_type": "error",
     "traceback": [
      "\u001b[0;31m---------------------------------------------------------------------------\u001b[0m",
      "\u001b[0;31mTypeError\u001b[0m                                 Traceback (most recent call last)",
      "\u001b[0;32m<ipython-input-54-13822bbe3619>\u001b[0m in \u001b[0;36m<module>\u001b[0;34m\u001b[0m\n\u001b[0;32m----> 1\u001b[0;31m \u001b[0moptions\u001b[0m\u001b[0;34m[\u001b[0m\u001b[0;34m[\u001b[0m\u001b[0mtype\u001b[0m\u001b[0;34m(\u001b[0m\u001b[0mop\u001b[0m\u001b[0;34m)\u001b[0m\u001b[0;34m==\u001b[0m\u001b[0mdict\u001b[0m \u001b[0;32mfor\u001b[0m \u001b[0mop\u001b[0m \u001b[0;32min\u001b[0m \u001b[0moptions\u001b[0m\u001b[0;34m]\u001b[0m\u001b[0;34m]\u001b[0m\u001b[0;34m\u001b[0m\u001b[0;34m\u001b[0m\u001b[0m\n\u001b[0m",
      "\u001b[0;31mTypeError\u001b[0m: list indices must be integers or slices, not list"
     ]
    }
   ],
   "source": [
    "options[[type(op)==dict for op in options]]"
   ]
  },
  {
   "cell_type": "code",
   "execution_count": null,
   "metadata": {},
   "outputs": [],
   "source": []
  }
 ],
 "metadata": {
  "jupytext": {
   "formats": "ipynb,md"
  },
  "kernelspec": {
   "display_name": "Python 3",
   "language": "python",
   "name": "python3"
  },
  "language_info": {
   "codemirror_mode": {
    "name": "ipython",
    "version": 3
   },
   "file_extension": ".py",
   "mimetype": "text/x-python",
   "name": "python",
   "nbconvert_exporter": "python",
   "pygments_lexer": "ipython3",
   "version": "3.8.3"
  }
 },
 "nbformat": 4,
 "nbformat_minor": 4
}
