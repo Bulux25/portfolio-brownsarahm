{
 "cells": [
  {
   "cell_type": "markdown",
   "metadata": {},
   "source": [
    "# Grading in this class"
   ]
  },
  {
   "cell_type": "code",
   "execution_count": 1,
   "metadata": {},
   "outputs": [],
   "source": [
    "def compute_grade(num_level1,num_level2,num_level3):\n",
    "    '''\n",
    "    Computes a grade for CSC/DSP310 from numbers of achievements at each level\n",
    "\n",
    "    Parameters:\n",
    "    ------------\n",
    "    num_level1 : int\n",
    "      number of level 1 achievements earned\n",
    "    num_level2 : int\n",
    "      number of level 2 achievements earned\n",
    "    num_level3 : int\n",
    "      number of level 3 achievements earned\n",
    "\n",
    "    Returns:\n",
    "    --------\n",
    "    letter_grade : string\n",
    "      letter grade with modifier (+/-)\n",
    "    '''\n",
    "    if num_level1 == 15:\n",
    "        if num_level2 == 15:\n",
    "            if num_level3 == 15:\n",
    "                grade = 'A'\n",
    "            elif num_level3 >= 10:\n",
    "                grade = 'A-'\n",
    "            elif num_level3 >=5:\n",
    "                grade = 'B+'\n",
    "            else:\n",
    "                grade = 'B'\n",
    "        elif num_level2 >=10:\n",
    "            grade = 'B-'\n",
    "        elif num_level2 >=5:\n",
    "            grade = 'C+'\n",
    "        else:\n",
    "            grade = 'C'\n",
    "    elif num_level1 >= 10:\n",
    "        grade = 'C-'\n",
    "    elif num_level1 >= 5:\n",
    "        grade = 'D+'\n",
    "    elif num_level1 >=3:\n",
    "        grade = 'D'\n",
    "    else:\n",
    "        grade = 'F'\n",
    "        \n",
    "    \n",
    "    return grade"
   ]
  },
  {
   "cell_type": "code",
   "execution_count": 2,
   "metadata": {},
   "outputs": [
    {
     "data": {
      "text/plain": [
       "'A'"
      ]
     },
     "execution_count": 2,
     "metadata": {},
     "output_type": "execute_result"
    }
   ],
   "source": [
    "compute_grade(15,15,15)"
   ]
  },
  {
   "cell_type": "code",
   "execution_count": 3,
   "metadata": {},
   "outputs": [
    {
     "data": {
      "text/plain": [
       "'C-'"
      ]
     },
     "execution_count": 3,
     "metadata": {},
     "output_type": "execute_result"
    }
   ],
   "source": [
    "compute_grade(14,14,14)"
   ]
  },
  {
   "cell_type": "code",
   "execution_count": 4,
   "metadata": {},
   "outputs": [],
   "source": [
    "assert compute_grade(14,14,14) == 'C-'"
   ]
  },
  {
   "cell_type": "code",
   "execution_count": 5,
   "metadata": {},
   "outputs": [],
   "source": [
    "assert compute_grade(15,15,15) == 'A'"
   ]
  },
  {
   "cell_type": "code",
   "execution_count": 6,
   "metadata": {},
   "outputs": [],
   "source": [
    "assert compute_grade(15,15,11) == 'A-'"
   ]
  }
 ],
 "metadata": {
  "jupytext": {
   "text_representation": {
    "extension": ".md",
    "format_name": "myst",
    "format_version": 0.12,
    "jupytext_version": "1.6.0"
   }
  },
  "kernelspec": {
   "display_name": "Python 3",
   "language": "python",
   "name": "python3"
  },
  "language_info": {
   "codemirror_mode": {
    "name": "ipython",
    "version": 3
   },
   "file_extension": ".py",
   "mimetype": "text/x-python",
   "name": "python",
   "nbconvert_exporter": "python",
   "pygments_lexer": "ipython3",
   "version": "3.7.9"
  },
  "source_map": [
   12,
   16,
   64,
   68,
   72,
   76,
   80
  ]
 },
 "nbformat": 4,
 "nbformat_minor": 4
}