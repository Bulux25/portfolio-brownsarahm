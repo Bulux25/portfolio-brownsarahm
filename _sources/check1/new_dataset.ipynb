{
 "cells": [
  {
   "cell_type": "markdown",
   "metadata": {},
   "source": [
    "# Building a New Dataset\n",
    "\n",
    "I would like to study if x and y are related, but I couldn't find a dataset about both. I found a dataset about x that included w and a dataset about y that included z. I can compute v from w and v from z.\n",
    "\n",
    "## Getting the data together\n",
    "\n",
    "First let's get all fo the data loaded into python\n",
    "\n",
    "### Loading and cleaning X\n",
    "First let's exmaine the data about x"
   ]
  },
  {
   "cell_type": "code",
   "execution_count": 1,
   "metadata": {},
   "outputs": [],
   "source": [
    "# load data x"
   ]
  },
  {
   "cell_type": "markdown",
   "metadata": {},
   "source": [
    "It has some problems:\n",
    " - problem 1\n",
    " - problem 2\n",
    " - problem 3\n",
    "\n",
    "First I'll fix problem 2 because that will make fixin 1 & 3 easier\n",
    "\n",
    "The plan to fix is this high level idea"
   ]
  },
  {
   "cell_type": "code",
   "execution_count": 2,
   "metadata": {},
   "outputs": [],
   "source": [
    "# comment on step 1\n",
    "\n",
    "# second step comment\n"
   ]
  },
  {
   "cell_type": "markdown",
   "metadata": {},
   "source": [
    "next"
   ]
  },
  {
   "cell_type": "code",
   "execution_count": 3,
   "metadata": {},
   "outputs": [],
   "source": [
    "# more code"
   ]
  },
  {
   "cell_type": "markdown",
   "metadata": {},
   "source": [
    "### loading and cleaning y\n",
    "\n",
    "what i'm going to do"
   ]
  },
  {
   "cell_type": "code",
   "execution_count": 4,
   "metadata": {},
   "outputs": [],
   "source": [
    "# more code"
   ]
  },
  {
   "cell_type": "markdown",
   "metadata": {},
   "source": [
    "observation.\n",
    "\n",
    "next plan"
   ]
  },
  {
   "cell_type": "code",
   "execution_count": 5,
   "metadata": {},
   "outputs": [],
   "source": [
    "# more code"
   ]
  },
  {
   "cell_type": "markdown",
   "metadata": {},
   "source": [
    " observation\n",
    "\n",
    "\n",
    "## Making them compatible\n",
    "\n",
    "### computing v from w\n",
    "\n",
    "\n",
    "### computing v from z\n",
    "\n",
    "\n",
    "## Merging\n",
    "\n",
    "I'll use this type of merge because ..."
   ]
  }
 ],
 "metadata": {
  "jupytext": {
   "text_representation": {
    "extension": ".md",
    "format_name": "myst",
    "format_version": 0.12,
    "jupytext_version": "1.6.0"
   }
  },
  "kernelspec": {
   "display_name": "Python 3",
   "language": "python",
   "name": "python3"
  },
  "language_info": {
   "codemirror_mode": {
    "name": "ipython",
    "version": 3
   },
   "file_extension": ".py",
   "mimetype": "text/x-python",
   "name": "python",
   "nbconvert_exporter": "python",
   "pygments_lexer": "ipython3",
   "version": "3.7.9"
  },
  "source_map": [
   12,
   25,
   27,
   37,
   42,
   47,
   49,
   56,
   58,
   63,
   65
  ]
 },
 "nbformat": 4,
 "nbformat_minor": 4
}